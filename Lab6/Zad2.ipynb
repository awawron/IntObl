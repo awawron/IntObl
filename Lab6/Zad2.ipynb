{
 "cells": [
  {
   "cell_type": "code",
   "execution_count": null,
   "metadata": {},
   "outputs": [],
   "source": [
    "import numpy as np\n",
    "import pandas as pd\n",
    "from sklearn.neural_network import MLPClassifier\n",
    "from sklearn.model_selection import train_test_split\n",
    "from sklearn.metrics import accuracy_score\n",
    "from sklearn.preprocessing import LabelEncoder\n",
    "\n",
    "df = pd.read_csv(\"iris.csv\")\n",
    "\n",
    "all_inputs = df[['sepal.length', 'sepal.width', 'petal.length', 'petal.width']].values\n",
    "all_classes = df['species'].values\n",
    "\n",
    "label_encoder = LabelEncoder()\n",
    "all_classes = label_encoder.fit_transform(all_classes)\n",
    "\n",
    "(train_set, test_set, train_classes, test_classes) = train_test_split(all_inputs, all_classes, train_size=0.7, random_state=1)\n",
    "\n",
    "clf = MLPClassifier(solver='lbfgs', \n",
    "                    alpha=1,\n",
    "                    hidden_layer_sizes=(2), \n",
    "                    random_state=1)\n",
    "\n",
    "clf.fit(train_set, train_classes)     \n",
    "clf.score(train_set, train_classes)\n",
    "\n",
    "predictions_train = clf.predict(train_set)\n",
    "predictions_test = clf.predict(test_set)\n",
    "train_score = accuracy_score(predictions_train, train_classes)\n",
    "print(\"score on train data: \", train_score)\n",
    "test_score = accuracy_score(predictions_test, test_classes)\n",
    "print(\"score on test data: \", test_score)\n",
    "# print(predictions_train[:20])"
   ]
  },
  {
   "attachments": {},
   "cell_type": "markdown",
   "metadata": {},
   "source": [
    "Jedna warstwa, 2 ukryte neurony:\n",
    "score on train data:  0.9809523809523809\n",
    "score on test data:  0.9777777777777777\n",
    "\n",
    "Jedna warstwa, 3 ukryte neurony:\n",
    "score on train data:  0.9809523809523809\n",
    "score on test data:  1.0\n",
    "\n",
    "Dwie warstwy, po 3 ukryte neurony:\n",
    "score on train data:  0.9809523809523809\n",
    "score on test data:  0.9777777777777777"
   ]
  }
 ],
 "metadata": {
  "language_info": {
   "name": "python"
  },
  "orig_nbformat": 4
 },
 "nbformat": 4,
 "nbformat_minor": 2
}
