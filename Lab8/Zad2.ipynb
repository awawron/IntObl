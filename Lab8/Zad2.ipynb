{
 "cells": [
  {
   "cell_type": "code",
   "execution_count": 2,
   "metadata": {},
   "outputs": [
    {
     "name": "stdout",
     "output_type": "stream",
     "text": [
      "{'neg': 0.042, 'neu': 0.701, 'pos': 0.257, 'compound': 0.9812}\n",
      "{'neg': 0.095, 'neu': 0.791, 'pos': 0.114, 'compound': 0.7149}\n"
     ]
    },
    {
     "name": "stderr",
     "output_type": "stream",
     "text": [
      "[nltk_data] Downloading package vader_lexicon to\n",
      "[nltk_data]     C:\\Users\\adamz\\AppData\\Roaming\\nltk_data...\n",
      "[nltk_data]   Package vader_lexicon is already up-to-date!\n"
     ]
    }
   ],
   "source": [
    "positive = \"Food was great, they know how to bake fresh bread and excellent pizza. Victoria, the lady who was helping us in the breakfast area was awesome. Location is wonderful, right on the beach, easy access to other attractions from here. I recommend to rent a bike and use their bike trails. They run along the coast and will take you from Gdansk to Sopot, Gdynia. Fun, fun. We had a balcony so on Wednesday and Friday we could hear a life band playing, very nice bonus. This area is super busy, a lot of cars, however they will provide you with a free parking, no problem. Little too hot in the room at the breakfast time , but the food was delicious so it compensated for the inconvenience. Our bathroom's fan didn't work but the bathroom was very large and updated.\"\n",
    "negative = \"The room was dirty and everything looked old and we soon found animal droppings in the AC unit. My partner has respiratory problems so we went downstairs and informed the front desk receptionist who called in a man. He did not introduce himself and asked us what the problem was so we told him about the animal droppings. He laughed in our faces so we showed him the pictures on our camera. He still laughed so we insisted he come up and see for himself. I asked him who he was and he said he was the owner. We were shocked by his lack of professionalism and bad attitude towards an important matter such as hygiene and safety. When he saw the droppings for himself he offered us a refund of only half of our trip but said that there were no other rooms available. Only when we claimed we would leave a negative review did he offer to refund us all of our money and we quickly left and stayed at the Holiday Inn in Vero Beach instead (which we highly recommend!) Hope this helps steer you towards a better hotel.\"\n",
    "\n",
    "import nltk\n",
    "from nltk.sentiment import SentimentIntensityAnalyzer\n",
    "\n",
    "nltk.download('vader_lexicon')\n",
    "\n",
    "sia = SentimentIntensityAnalyzer()\n",
    "\n",
    "sentiment_scores = sia.polarity_scores(positive)\n",
    "print(sentiment_scores)\n",
    "\n",
    "sentiment_scores = sia.polarity_scores(negative)\n",
    "print(sentiment_scores)"
   ]
  },
  {
   "cell_type": "code",
   "execution_count": 3,
   "metadata": {},
   "outputs": [
    {
     "name": "stdout",
     "output_type": "stream",
     "text": [
      "{'Happy': 0.3, 'Angry': 0.0, 'Surprise': 0.15, 'Sad': 0.15, 'Fear': 0.4}\n",
      "{'Happy': 0.04, 'Angry': 0.12, 'Surprise': 0.12, 'Sad': 0.12, 'Fear': 0.6}\n"
     ]
    }
   ],
   "source": [
    "import text2emotion as te\n",
    "\n",
    "print(te.get_emotion(positive))\n",
    "print(te.get_emotion(negative))"
   ]
  },
  {
   "cell_type": "code",
   "execution_count": 5,
   "metadata": {},
   "outputs": [
    {
     "name": "stderr",
     "output_type": "stream",
     "text": [
      "[nltk_data] Downloading package vader_lexicon to\n",
      "[nltk_data]     C:\\Users\\adamz\\AppData\\Roaming\\nltk_data...\n",
      "[nltk_data]   Package vader_lexicon is already up-to-date!\n"
     ]
    },
    {
     "name": "stdout",
     "output_type": "stream",
     "text": [
      "{'neg': 0.031, 'neu': 0.582, 'pos': 0.388, 'compound': 0.9954}\n",
      "{'neg': 0.117, 'neu': 0.821, 'pos': 0.061, 'compound': -0.8674}\n",
      "{'Happy': 0.42, 'Angry': 0.0, 'Surprise': 0.16, 'Sad': 0.11, 'Fear': 0.32}\n",
      "{'Happy': 0.04, 'Angry': 0.12, 'Surprise': 0.12, 'Sad': 0.15, 'Fear': 0.58}\n"
     ]
    }
   ],
   "source": [
    "positive = \"Food was great, they know how to bake fresh bread and excellent pizza. Victoria, the lady who was helping us in the breakfast area was awesome. Location is wonderful, right on the beach, easy access to other attractions from here. I recommend to rent a bike and use their bike trails. They run along the coast and will take you from Gdansk to Sopot, Gdynia. Fun, fun. We had a balcony so on Wednesday and Friday we could hear a life band playing, very nice bonus. This area is super busy, a lot of cars, however they will provide you with a free parking, no problem, it's fantastic. The food was delicious. The bathroom was beautiful, very large and updated.\"\n",
    "negative = \"The room was dirty and everything looked old and atrocious and we soon found shit in the AC unit. My partner has respiratory problems so we went downstairs and told the front desk receptionist who called in a man. He did not introduce himself and asked us what the problem was so we told him about the garbage. He laughed in our faces so we showed him the pictures on our camera. He still laughed so we insisted he come up and see for himself. I asked him who he was and he said he was the owner. We were shocked by his lack of professionalism and bad attitude towards an important matter such as hygiene and safety. When he saw the droppings for himself he offered us a refund of only half of our trip but said that there were no other rooms available. Only when we claimed we would leave a negative review did he offer to refund us all of our money and we quickly left and stayed at the Holiday Inn in Vero Beach instead.\"\n",
    "\n",
    "import nltk\n",
    "from nltk.sentiment import SentimentIntensityAnalyzer\n",
    "\n",
    "nltk.download('vader_lexicon')\n",
    "\n",
    "sia = SentimentIntensityAnalyzer()\n",
    "\n",
    "sentiment_scores = sia.polarity_scores(positive)\n",
    "print(sentiment_scores)\n",
    "\n",
    "sentiment_scores = sia.polarity_scores(negative)\n",
    "print(sentiment_scores)\n",
    "\n",
    "import text2emotion as te\n",
    "\n",
    "print(te.get_emotion(positive))\n",
    "print(te.get_emotion(negative))"
   ]
  }
 ],
 "metadata": {
  "kernelspec": {
   "display_name": "Python 3",
   "language": "python",
   "name": "python3"
  },
  "language_info": {
   "codemirror_mode": {
    "name": "ipython",
    "version": 3
   },
   "file_extension": ".py",
   "mimetype": "text/x-python",
   "name": "python",
   "nbconvert_exporter": "python",
   "pygments_lexer": "ipython3",
   "version": "3.11.2"
  },
  "orig_nbformat": 4
 },
 "nbformat": 4,
 "nbformat_minor": 2
}
